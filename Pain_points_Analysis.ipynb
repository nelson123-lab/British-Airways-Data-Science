{
  "nbformat": 4,
  "nbformat_minor": 0,
  "metadata": {
    "colab": {
      "provenance": []
    },
    "kernelspec": {
      "name": "python3",
      "display_name": "Python 3"
    },
    "language_info": {
      "name": "python"
    }
  },
  "cells": [
    {
      "cell_type": "code",
      "execution_count": 1,
      "metadata": {
        "id": "4uAYC_LD4vlk"
      },
      "outputs": [],
      "source": [
        "import pandas as pd\n",
        "import re"
      ]
    },
    {
      "cell_type": "markdown",
      "source": [
        "### Importing the data"
      ],
      "metadata": {
        "id": "aM0vpCXiFLxt"
      }
    },
    {
      "cell_type": "code",
      "source": [
        "data = pd.rea"
      ],
      "metadata": {
        "id": "PLCbevd0FDYA"
      },
      "execution_count": null,
      "outputs": []
    }
  ]
}